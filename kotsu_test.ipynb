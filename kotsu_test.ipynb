{
 "cells": [
  {
   "cell_type": "markdown",
   "metadata": {},
   "source": [
    "# Testing of Kotsu"
   ]
  },
  {
   "cell_type": "markdown",
   "metadata": {},
   "source": [
    "Import kotsu and your packages for modelling:"
   ]
  },
  {
   "cell_type": "code",
   "execution_count": 1,
   "metadata": {},
   "outputs": [],
   "source": [
    "import kotsu\n",
    "from sklearn import datasets, svm\n",
    "from sklearn.model_selection import cross_val_score"
   ]
  },
  {
   "cell_type": "markdown",
   "metadata": {},
   "source": [
    "Register your competing models:"
   ]
  },
  {
   "cell_type": "code",
   "execution_count": 4,
   "metadata": {},
   "outputs": [
    {
     "ename": "AttributeError",
     "evalue": "module 'kotsu' has no attribute 'registration'",
     "output_type": "error",
     "traceback": [
      "\u001b[0;31m---------------------------------------------------------------------------\u001b[0m",
      "\u001b[0;31mAttributeError\u001b[0m                            Traceback (most recent call last)",
      "\u001b[1;32m/home/ttran/Downloads/GitHubRepo/kotsu/kotsu_test.ipynb Cell 5'\u001b[0m in \u001b[0;36m<cell line: 1>\u001b[0;34m()\u001b[0m\n\u001b[0;32m----> <a href='vscode-notebook-cell:/home/ttran/Downloads/GitHubRepo/kotsu/kotsu_test.ipynb#ch0000004?line=0'>1</a>\u001b[0m model_registry \u001b[39m=\u001b[39m kotsu\u001b[39m.\u001b[39;49mregistration\u001b[39m.\u001b[39mModelRegistry()\n\u001b[1;32m      <a href='vscode-notebook-cell:/home/ttran/Downloads/GitHubRepo/kotsu/kotsu_test.ipynb#ch0000004?line=2'>3</a>\u001b[0m model_registry\u001b[39m.\u001b[39mregister(\n\u001b[1;32m      <a href='vscode-notebook-cell:/home/ttran/Downloads/GitHubRepo/kotsu/kotsu_test.ipynb#ch0000004?line=3'>4</a>\u001b[0m     \u001b[39mid\u001b[39m\u001b[39m=\u001b[39m\u001b[39m\"\u001b[39m\u001b[39mSVC-v1\u001b[39m\u001b[39m\"\u001b[39m,\n\u001b[1;32m      <a href='vscode-notebook-cell:/home/ttran/Downloads/GitHubRepo/kotsu/kotsu_test.ipynb#ch0000004?line=4'>5</a>\u001b[0m     entry_point\u001b[39m=\u001b[39msvm\u001b[39m.\u001b[39mSVC,\n\u001b[1;32m      <a href='vscode-notebook-cell:/home/ttran/Downloads/GitHubRepo/kotsu/kotsu_test.ipynb#ch0000004?line=5'>6</a>\u001b[0m     kwargs\u001b[39m=\u001b[39m{\u001b[39m\"\u001b[39m\u001b[39mkernel\u001b[39m\u001b[39m\"\u001b[39m: \u001b[39m\"\u001b[39m\u001b[39mlinear\u001b[39m\u001b[39m\"\u001b[39m, \u001b[39m\"\u001b[39m\u001b[39mC\u001b[39m\u001b[39m\"\u001b[39m: \u001b[39m1\u001b[39m, \u001b[39m\"\u001b[39m\u001b[39mrandom_state\u001b[39m\u001b[39m\"\u001b[39m: \u001b[39m1\u001b[39m},\n\u001b[1;32m      <a href='vscode-notebook-cell:/home/ttran/Downloads/GitHubRepo/kotsu/kotsu_test.ipynb#ch0000004?line=6'>7</a>\u001b[0m )\n\u001b[1;32m      <a href='vscode-notebook-cell:/home/ttran/Downloads/GitHubRepo/kotsu/kotsu_test.ipynb#ch0000004?line=8'>9</a>\u001b[0m model_registry\u001b[39m.\u001b[39mregister(\n\u001b[1;32m     <a href='vscode-notebook-cell:/home/ttran/Downloads/GitHubRepo/kotsu/kotsu_test.ipynb#ch0000004?line=9'>10</a>\u001b[0m     \u001b[39mid\u001b[39m\u001b[39m=\u001b[39m\u001b[39m\"\u001b[39m\u001b[39mSVC-v2\u001b[39m\u001b[39m\"\u001b[39m,\n\u001b[1;32m     <a href='vscode-notebook-cell:/home/ttran/Downloads/GitHubRepo/kotsu/kotsu_test.ipynb#ch0000004?line=10'>11</a>\u001b[0m     entry_point\u001b[39m=\u001b[39msvm\u001b[39m.\u001b[39mSVC,\n\u001b[1;32m     <a href='vscode-notebook-cell:/home/ttran/Downloads/GitHubRepo/kotsu/kotsu_test.ipynb#ch0000004?line=11'>12</a>\u001b[0m     kwargs\u001b[39m=\u001b[39m{\u001b[39m\"\u001b[39m\u001b[39mkernel\u001b[39m\u001b[39m\"\u001b[39m: \u001b[39m\"\u001b[39m\u001b[39mlinear\u001b[39m\u001b[39m\"\u001b[39m, \u001b[39m\"\u001b[39m\u001b[39mC\u001b[39m\u001b[39m\"\u001b[39m: \u001b[39m0.5\u001b[39m, \u001b[39m\"\u001b[39m\u001b[39mrandom_state\u001b[39m\u001b[39m\"\u001b[39m: \u001b[39m1\u001b[39m},\n\u001b[1;32m     <a href='vscode-notebook-cell:/home/ttran/Downloads/GitHubRepo/kotsu/kotsu_test.ipynb#ch0000004?line=12'>13</a>\u001b[0m )\n",
      "\u001b[0;31mAttributeError\u001b[0m: module 'kotsu' has no attribute 'registration'"
     ]
    }
   ],
   "source": [
    "model_registry = kotsu.registration.ModelRegistry()\n",
    "\n",
    "model_registry.register(\n",
    "    id=\"SVC-v1\",\n",
    "    entry_point=svm.SVC,\n",
    "    kwargs={\"kernel\": \"linear\", \"C\": 1, \"random_state\": 1},\n",
    ")\n",
    "\n",
    "model_registry.register(\n",
    "    id=\"SVC-v2\",\n",
    "    entry_point=svm.SVC,\n",
    "    kwargs={\"kernel\": \"linear\", \"C\": 0.5, \"random_state\": 1},\n",
    ")"
   ]
  },
  {
   "cell_type": "markdown",
   "metadata": {},
   "source": [
    "Register your validations:"
   ]
  },
  {
   "cell_type": "code",
   "execution_count": null,
   "metadata": {},
   "outputs": [],
   "source": [
    "validation_registry = kotsu.registration.ValidationRegistry()\n",
    "\n",
    "\n",
    "def factory_iris_cross_validation(folds: int):\n",
    "    \"\"\"Factory for iris cross validation.\"\"\"\n",
    "\n",
    "    def iris_cross_validation(model) -> dict:\n",
    "        \"\"\"Iris classification cross validation.\"\"\"\n",
    "        X, y = datasets.load_iris(return_X_y=True)\n",
    "        scores = cross_val_score(model, X, y, cv=folds)\n",
    "        results = {f\"fold_{i}_score\": score for i, score in enumerate(scores)}\n",
    "        results[\"mean_score\"] = scores.mean()\n",
    "        results[\"std_score\"] = scores.std()\n",
    "        return results\n",
    "\n",
    "    return iris_cross_validation\n",
    "\n",
    "\n",
    "validation_registry.register(\n",
    "    id=\"iris_cross_validation-v1\",\n",
    "    entry_point=factory_iris_cross_validation,\n",
    "    kwargs={\"folds\": 5},\n",
    ")\n",
    "\n",
    "validation_registry.register(\n",
    "    id=\"iris_cross_validation-v2\",\n",
    "    entry_point=factory_iris_cross_validation,\n",
    "    kwargs={\"folds\": 10},\n",
    ")"
   ]
  }
 ],
 "metadata": {
  "interpreter": {
   "hash": "f2929bb79de52af04b46af0ffbd7f42bee829678e35c4085b2f879568c07e922"
  },
  "kernelspec": {
   "display_name": "Python 3.8.13 ('kotsu_test')",
   "language": "python",
   "name": "python3"
  },
  "language_info": {
   "codemirror_mode": {
    "name": "ipython",
    "version": 3
   },
   "file_extension": ".py",
   "mimetype": "text/x-python",
   "name": "python",
   "nbconvert_exporter": "python",
   "pygments_lexer": "ipython3",
   "version": "3.8.13"
  },
  "orig_nbformat": 4
 },
 "nbformat": 4,
 "nbformat_minor": 2
}
